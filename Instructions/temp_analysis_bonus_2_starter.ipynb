{
 "cells": [
  {
   "cell_type": "code",
   "execution_count": 265,
   "metadata": {},
   "outputs": [],
   "source": [
    "%matplotlib inline\n",
    "from matplotlib import style\n",
    "style.use('fivethirtyeight')\n",
    "import matplotlib.pyplot as plt"
   ]
  },
  {
   "cell_type": "code",
   "execution_count": 266,
   "metadata": {},
   "outputs": [],
   "source": [
    "import numpy as np\n",
    "import pandas as pd\n",
    "import datetime as dt"
   ]
  },
  {
   "cell_type": "markdown",
   "metadata": {},
   "source": [
    "## Reflect Tables into SQLALchemy ORM"
   ]
  },
  {
   "cell_type": "code",
   "execution_count": 267,
   "metadata": {},
   "outputs": [],
   "source": [
    "# Python SQL toolkit and Object Relational Mapper\n",
    "import sqlalchemy\n",
    "from sqlalchemy.ext.automap import automap_base\n",
    "from sqlalchemy.orm import Session\n",
    "from sqlalchemy import create_engine, func"
   ]
  },
  {
   "cell_type": "code",
   "execution_count": 268,
   "metadata": {},
   "outputs": [],
   "source": [
    "# create engine to hawaii.sqlite\n",
    "engine = create_engine(\"sqlite:///hawaii.sqlite\")"
   ]
  },
  {
   "cell_type": "code",
   "execution_count": 269,
   "metadata": {},
   "outputs": [],
   "source": [
    "# # Declare a Base using 'automap_base()'\n",
    "Base = automap_base()\n",
    "# reflect an existing database into a new model\n",
    "Base.prepare(engine, reflect=True)\n",
    "# reflect the tables\n",
    "Measurement = Base.classes.measurement\n",
    "Station = Base.classes.station"
   ]
  },
  {
   "cell_type": "code",
   "execution_count": 270,
   "metadata": {},
   "outputs": [
    {
     "data": {
      "text/plain": [
       "['measurement', 'station']"
      ]
     },
     "execution_count": 270,
     "metadata": {},
     "output_type": "execute_result"
    }
   ],
   "source": [
    "# View all of the classes that automap found\n",
    "Base.classes.keys()"
   ]
  },
  {
   "cell_type": "code",
   "execution_count": 271,
   "metadata": {},
   "outputs": [],
   "source": [
    "# Save references to each table\n",
    "Measurement = Base.classes.measurement\n",
    "Station = Base.classes.station"
   ]
  },
  {
   "cell_type": "code",
   "execution_count": 272,
   "metadata": {},
   "outputs": [],
   "source": [
    "# Create our session (link) from Python to the DB\n",
    "session = Session(engine)\n",
    "results_meas = session.query(Measurement.station, Measurement.date, Measurement.prcp, Measurement.tobs).order_by(Measurement.date.desc()).all()\n",
    "results_stat = session.query(Station.station, Station.name, Station.latitude , Station.longitude, Station.elevation).all()"
   ]
  },
  {
   "cell_type": "markdown",
   "metadata": {},
   "source": [
    "## Bonus Challenge Assignment: Temperature Analysis II"
   ]
  },
  {
   "cell_type": "code",
   "execution_count": 273,
   "metadata": {},
   "outputs": [
    {
     "name": "stdout",
     "output_type": "stream",
     "text": [
      "[(62.0, 69.57142857142857, 74.0)]\n"
     ]
    }
   ],
   "source": [
    "# This function called `calc_temps` will accept start date and end date in the format '%Y-%m-%d' \n",
    "# and return the minimum, maximum, and average temperatures for that range of dates\n",
    "def calc_temps(start_date, end_date):\n",
    "    \"\"\"TMIN, TAVG, and TMAX for a list of dates.\n",
    "    \n",
    "    Args:\n",
    "        start_date (string): A date string in the format %Y-%m-%d\n",
    "        end_date (string): A date string in the format %Y-%m-%d\n",
    "        \n",
    "    Returns:\n",
    "        TMIN, TAVE, and TMAX\n",
    "    \"\"\"\n",
    "    \n",
    "    return session.query(func.min(Measurement.tobs), func.avg(Measurement.tobs), func.max(Measurement.tobs)).\\\n",
    "        filter(Measurement.date >= start_date).filter(Measurement.date <= end_date).all()\n",
    "\n",
    "# For example\n",
    "print(calc_temps('2012-02-28', '2012-03-05'))"
   ]
  },
  {
   "cell_type": "code",
   "execution_count": 274,
   "metadata": {},
   "outputs": [],
   "source": [
    "# Use the function `calc_temps` to calculate the tmin, tavg, and tmax \n",
    "# for a year in the data set\n",
    "temp_data = (calc_temps('2017-08-01', '2017-08-07'))\n",
    "temp_min = temp_data[0][0]\n",
    "temp_avg = round(temp_data[0][1],2)\n",
    "temp_max = temp_data[0][2]"
   ]
  },
  {
   "cell_type": "code",
   "execution_count": 275,
   "metadata": {},
   "outputs": [
    {
     "data": {
      "image/png": "[encoded data removed]",
      "text/plain": [
       "<Figure size 216x576 with 1 Axes>"
      ]
     },
     "metadata": {},
     "output_type": "display_data"
    }
   ],
   "source": [
    "# Plot the results from your previous query as a bar chart. \n",
    "# Use \"Trip Avg Temp\" as your Title\n",
    "# Use the average temperature for bar height (y value)\n",
    "# Use the peak-to-peak (tmax-tmin) value as the y error bar (yerr)\n",
    "yerror = temp_max - temp_min\n",
    "plt.subplots(figsize=(3, 8))\n",
    "plt.errorbar(0,temp_avg, yerr=yerror, fmt=\" \", ecolor=\"black\", elinewidth=2)\n",
    "plt.bar(0,temp_avg, width=0.1, color=\"lightsalmon\", alpha=0.5)\n",
    "plt.ylabel('Temp (F)',fontsize=14)\n",
    "plt.ylim = (0,100)\n",
    "plt.grid(axis='y',color='grey', linestyle='-', linewidth=0.3)\n",
    "plt.title('Trip Avg Temp',fontsize=18)\n",
    "ax = plt.gca()\n",
    "ax.axes.xaxis.set_visible(False)\n",
    "plt.savefig(\"Output/Temp_yerror.png\")\n",
    "plt.show()"
   ]
  },
  {
   "cell_type": "markdown",
   "metadata": {},
   "source": [
    "### Daily Rainfall Average"
   ]
  },
  {
   "cell_type": "code",
   "execution_count": 276,
   "metadata": {},
   "outputs": [
    {
     "name": "stdout",
     "output_type": "stream",
     "text": [
      "        station  total prcp                                    name  latitude  \\\n",
      "6   USC00516128        0.36            MANOA LYON ARBO 785.2, HI US  21.33310   \n",
      "0   USC00514830        0.22  KUALOA RANCH HEADQUARTERS 886.9, HI US  21.52130   \n",
      "12  USC00519281        0.06                     WAIHEE 837.5, HI US  21.45167   \n",
      "15  USC00519397        0.04                    WAIKIKI 717.2, HI US  21.27160   \n",
      "22  USC00519523        0.00      WAIMANALO EXPERIMENTAL FARM, HI US  21.33556   \n",
      "\n",
      "    longitude  elevation  \n",
      "6  -157.80250      152.4  \n",
      "0  -157.83740        7.0  \n",
      "12 -157.84889       32.9  \n",
      "15 -157.81680        3.0  \n",
      "22 -157.71139       19.5  \n"
     ]
    }
   ],
   "source": [
    "# Calculate the total amount of rainfall per weather station for your trip dates using the previous year's \n",
    "# matching dates.\n",
    "meas_df=pd.DataFrame(results_meas)\n",
    "stat_df=pd.DataFrame(results_stat)\n",
    "df=pd.merge(meas_df,stat_df,on='station',how='inner')\n",
    "df_trip = df.loc[(df['date']>='2017-08-01') & (df['date']<='2017-08-07')]\n",
    "station_df = df_trip.groupby('station')\n",
    "rainfall_df = station_df['prcp'].sum()\n",
    "\n",
    "# Sort this in descending order by precipitation amount and list the station, name, latitude, longitude, and elevation\n",
    "#rainfall_df.sort_values('prcp',ascending=False)\n",
    "df=pd.merge(rainfall_df,df_trip,on='station',how='outer')\n",
    "\n",
    "# Drop unwated columns\n",
    "df_clean = df.drop(['prcp_y','tobs','prcp_y','date'], axis=1)\n",
    "\n",
    "# Rename column with the total rainfall per station\n",
    "df_clean = df_clean.rename(columns={'prcp_x': 'total prcp'})\n",
    "\n",
    "# Find the duplicated rows with same total rainfall per station\n",
    "duplicate_df=df_clean.duplicated(subset=['total prcp'])\n",
    "\n",
    "# Adds duplicated column to dataframe\n",
    "df_clean['Duplicated']=duplicate_df.values\n",
    "\n",
    "# Remove all rows that contains duplicated values and keeps only one value of each\n",
    "df_final = df_clean.drop_duplicates(subset='total prcp', keep=\"first\")\n",
    "df_final = df_final.sort_values('total prcp',ascending=False)\n",
    "df_final = df_final.drop(['Duplicated'], axis=1)\n",
    "print(df_final )"
   ]
  },
  {
   "cell_type": "code",
   "execution_count": 277,
   "metadata": {},
   "outputs": [
    {
     "data": {
      "text/plain": [
       "[(62.0, 69.15384615384616, 77.0)]"
      ]
     },
     "execution_count": 277,
     "metadata": {},
     "output_type": "execute_result"
    }
   ],
   "source": [
    "# Use this function to calculate the daily normals \n",
    "# (i.e. the averages for tmin, tmax, and tavg for all historic data matching a specific month and day)\n",
    "\n",
    "def daily_normals(date):\n",
    "    \"\"\"Daily Normals.\n",
    "    \n",
    "    Args:\n",
    "        date (str): A date string in the format '%m-%d'\n",
    "        \n",
    "    Returns:\n",
    "        A list of tuples containing the daily normals, tmin, tavg, and tmax\n",
    "    \n",
    "    \"\"\"\n",
    "    \n",
    "    sel = [func.min(Measurement.tobs), func.avg(Measurement.tobs), func.max(Measurement.tobs)]\n",
    "    return session.query(*sel).filter(func.strftime(\"%m-%d\", Measurement.date) == date).all()\n",
    "\n",
    "# For example\n",
    "daily_normals(\"01-01\")"
   ]
  },
  {
   "cell_type": "code",
   "execution_count": 278,
   "metadata": {},
   "outputs": [],
   "source": [
    "# calculate the daily normals for your trip\n",
    "# push each tuple of calculations into a list called `normals`\n",
    "\n",
    "# Set the start and end date of the trip\n",
    "start_date = '2017-08-01'\n",
    "end_date = '2017-08-07'\n",
    "\n",
    "\n",
    "# Use the start and end date to create a range of dates\n",
    "df_trip = df.loc[(df['date']>=start_date) & (df['date']<=end_date)]\n",
    "df_range = pd.to_datetime(df_trip['date'], format='%Y-%m-%d')\n",
    "\n",
    "# Strip off the year and save a list of strings in the format %m-%d\n",
    "df_range= df_range.dt.strftime('%m-%d')\n",
    "# convert series to a list\n",
    "trip_dates=df_range.tolist()\n",
    "\n",
    "# Use the `daily_normals` function to calculate the normals for each date string \n",
    "# and append the results to a list called `normals`.\n",
    "normals = []\n",
    "for date in trip_dates:\n",
    "    normals.append(daily_normals(date))"
   ]
  },
  {
   "cell_type": "code",
   "execution_count": 313,
   "metadata": {},
   "outputs": [
    {
     "name": "stdout",
     "output_type": "stream",
     "text": [
      "date\n",
      "08-01    83.0\n",
      "08-02    84.0\n",
      "08-03    85.0\n",
      "08-04    84.0\n",
      "08-05    82.0\n",
      "08-06    83.0\n",
      "08-07    83.0\n",
      "Name: max_temp, dtype: float64\n"
     ]
    }
   ],
   "source": [
    "# Load the previous query results into a Pandas DataFrame and add the `trip_dates` range as the `date` index\n",
    "normals_df = pd.DataFrame(normals)\n",
    "min_list = []\n",
    "avg_list = []\n",
    "max_list = []\n",
    "c=0\n",
    "for x in normals_df.iterrows():\n",
    "    min_list.append(normals_df[0][c][0])\n",
    "    avg_list.append(normals_df[0][c][1])\n",
    "    max_list.append(normals_df[0][c][2])\n",
    "    c=c+1\n",
    "    \n",
    "min_df = pd.DataFrame(min_list)\n",
    "min_df = min_df.rename(columns={min_df.columns[0]:'min_temp'})\n",
    "avg_df = pd.DataFrame(avg_list)\n",
    "avg_df = avg_df.rename(columns={avg_df.columns[0]:'avg_temp'})\n",
    "max_df = pd.DataFrame(max_list)\n",
    "max_df = max_df.rename(columns={max_df.columns[0]:'max_temp'})\n",
    "df = pd.concat([df_range, min_df], axis=1)\n",
    "df = pd.concat([df, avg_df], axis=1)\n",
    "df = pd.concat([df, max_df], axis=1)\n",
    "df = df.set_index('date')\n",
    "\n",
    "df_grouped = df.groupby('date')\n",
    "df_grouped_min = df_grouped['min_temp'].mean()\n",
    "df_grouped_avg = df_grouped['avg_temp'].mean()\n",
    "df_grouped_max = df_grouped['max_temp'].mean()\n",
    "\n",
    "print(df_grouped_max)"
   ]
  },
  {
   "cell_type": "code",
   "execution_count": 333,
   "metadata": {},
   "outputs": [
    {
     "name": "stdout",
     "output_type": "stream",
     "text": [
      "       min_temp   avg_temp  max_temp\n",
      "date                                \n",
      "08-01      67.0  75.540000      83.0\n",
      "08-02      68.0  75.603774      84.0\n",
      "08-03      70.0  76.611111      85.0\n",
      "08-04      69.0  76.711538      84.0\n",
      "08-05      69.0  76.148148      82.0\n",
      "08-06      67.0  76.250000      83.0\n",
      "08-07      71.0  77.156863      83.0\n"
     ]
    },
    {
     "data": {
      "image/png": "[encoded data removed]",
      "text/plain": [
       "<Figure size 864x576 with 1 Axes>"
      ]
     },
     "metadata": {},
     "output_type": "display_data"
    }
   ],
   "source": [
    "# Plot the daily normals as an area plot with `stacked=False`\n",
    "df_final = pd.concat([df_grouped_min,df_grouped_avg], axis=1)\n",
    "df_final = pd.concat([df_final,df_grouped_max], axis=1)\n",
    "x=df_final.index\n",
    "y1=df_final['min_temp']\n",
    "y2=df_final['avg_temp']\n",
    "y3=df_final['max_temp']\n",
    "print(df_final)\n",
    "ax = df_final.plot.area(stacked=False, figsize=(12,8), alpha=0.3)\n",
    "ax.set_ylabel('Temperature',fontsize=14)\n",
    "plt.savefig(\"Output/normals.png\")\n",
    "plt.show()"
   ]
  },
  {
   "cell_type": "markdown",
   "metadata": {},
   "source": [
    "## Close Session"
   ]
  },
  {
   "cell_type": "code",
   "execution_count": 33,
   "metadata": {},
   "outputs": [],
   "source": [
    "session.close()"
   ]
  },
  {
   "cell_type": "code",
   "execution_count": null,
   "metadata": {},
   "outputs": [],
   "source": []
  }
 ],
 "metadata": {
  "kernelspec": {
   "display_name": "Python [conda env:PythonData] *",
   "language": "python",
   "name": "conda-env-PythonData-py"
  },
  "language_info": {
   "codemirror_mode": {
    "name": "ipython",
    "version": 3
   },
   "file_extension": ".py",
   "mimetype": "text/x-python",
   "name": "python",
   "nbconvert_exporter": "python",
   "pygments_lexer": "ipython3",
   "version": "3.6.10"
  }
 },
 "nbformat": 4,
 "nbformat_minor": 4
}
