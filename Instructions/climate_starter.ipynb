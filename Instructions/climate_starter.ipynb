{
 "cells": [
  {
   "cell_type": "code",
   "execution_count": 176,
   "metadata": {},
   "outputs": [],
   "source": [
    "%matplotlib inline\n",
    "from matplotlib import style\n",
    "style.use('fivethirtyeight')\n",
    "import matplotlib.pyplot as plt"
   ]
  },
  {
   "cell_type": "code",
   "execution_count": 177,
   "metadata": {},
   "outputs": [],
   "source": [
    "import numpy as np\n",
    "import pandas as pd\n",
    "import datetime as dt"
   ]
  },
  {
   "cell_type": "markdown",
   "metadata": {},
   "source": [
    "# Reflect Tables into SQLAlchemy ORM"
   ]
  },
  {
   "cell_type": "code",
   "execution_count": 178,
   "metadata": {},
   "outputs": [],
   "source": [
    "# Python SQL toolkit and Object Relational Mapper\n",
    "import sqlalchemy\n",
    "from sqlalchemy.ext.automap import automap_base\n",
    "from sqlalchemy.orm import Session\n",
    "from sqlalchemy import create_engine, func, inspect, MetaData"
   ]
  },
  {
   "cell_type": "code",
   "execution_count": 179,
   "metadata": {},
   "outputs": [],
   "source": [
    "# create engine to hawaii.sqlite\n",
    "engine = create_engine(\"sqlite:///hawaii.sqlite\")"
   ]
  },
  {
   "cell_type": "code",
   "execution_count": 180,
   "metadata": {},
   "outputs": [],
   "source": [
    "# # Declare a Base using 'automap_base()'\n",
    "Base = automap_base()\n",
    "\n",
    "# #Use the Base class to reflect the database tables\n",
    "Base.prepare(engine, reflect=True)"
   ]
  },
  {
   "cell_type": "code",
   "execution_count": 181,
   "metadata": {},
   "outputs": [
    {
     "data": {
      "text/plain": [
       "['measurement', 'station']"
      ]
     },
     "execution_count": 181,
     "metadata": {},
     "output_type": "execute_result"
    }
   ],
   "source": [
    "Base.classes.keys()"
   ]
  },
  {
   "cell_type": "code",
   "execution_count": 182,
   "metadata": {},
   "outputs": [],
   "source": [
    "# Save references to each table\n",
    "Measurement = Base.classes.measurement\n",
    "Station = Base.classes.station"
   ]
  },
  {
   "cell_type": "code",
   "execution_count": 183,
   "metadata": {},
   "outputs": [],
   "source": [
    "# Create the inspector and connect it to the engine\n",
    "inspector = inspect(engine)"
   ]
  },
  {
   "cell_type": "code",
   "execution_count": 184,
   "metadata": {},
   "outputs": [
    {
     "name": "stdout",
     "output_type": "stream",
     "text": [
      "id INTEGER\n",
      "station TEXT\n",
      "date TEXT\n",
      "prcp FLOAT\n",
      "tobs FLOAT\n",
      " \n",
      "id INTEGER\n",
      "station TEXT\n",
      "name TEXT\n",
      "latitude FLOAT\n",
      "longitude FLOAT\n",
      "elevation FLOAT\n"
     ]
    }
   ],
   "source": [
    "# Using the inspector to print the column names within the tables and their types\n",
    "columns_meas = inspector.get_columns('measurement')\n",
    "for column_meas in columns_meas:\n",
    "    print(column_meas[\"name\"], column_meas[\"type\"])\n",
    "print(' ')    \n",
    "columns_stat= inspector.get_columns('station')\n",
    "for column_stat in columns_stat:\n",
    "    print(column_stat[\"name\"], column_stat[\"type\"])   "
   ]
  },
  {
   "cell_type": "code",
   "execution_count": 185,
   "metadata": {},
   "outputs": [],
   "source": [
    "# Create our session (link) from Python to the DB\n",
    "session = Session(engine)\n",
    "results_meas = session.query(Measurement.station, Measurement.date, Measurement.prcp, Measurement.tobs).order_by(Measurement.date.desc()).all()\n",
    "results_stat = session.query(Station.station, Station.name, Station.latitude , Station.longitude, Station.elevation).all()\n"
   ]
  },
  {
   "cell_type": "markdown",
   "metadata": {},
   "source": [
    "# Exploratory Precipitation Analysis"
   ]
  },
  {
   "cell_type": "code",
   "execution_count": 186,
   "metadata": {},
   "outputs": [
    {
     "name": "stdout",
     "output_type": "stream",
     "text": [
      "The most recent data is 2017-08-23\n"
     ]
    }
   ],
   "source": [
    "# Find the most recent date in the data set.\n",
    "recent_date = session.query(Measurement.date).order_by(Measurement.date.desc()).first().date\n",
    "print(f'The most recent data is {recent_date}')"
   ]
  },
  {
   "cell_type": "code",
   "execution_count": 201,
   "metadata": {},
   "outputs": [
    {
     "name": "stdout",
     "output_type": "stream",
     "text": [
      "[(0.0,), (0.0,), (0.08,), (0.45,), (0.0,), (0.0,), (0.5,), (0.0,), (0.02,), (None,), (0.56,), (0.0,), (0.01,), (None,), (0.0,), (0.0,), (None,), (0.09,), (0.0,), (0.0,), (0.06,), (None,), (0.0,), (0.05,), (0.01,), (0.13,), (0.0,), (0.07,), (0.12,), (0.42,), (0.02,), (0.0,), (0.06,), (0.32,), (0.42,), (0.0,), (0.01,), (0.08,), (0.0,), (0.22,), (0.0,), (None,), (0.0,), (0.0,), (None,), (0.0,), (0.0,), (0.14,), (0.0,), (0.0,), (0.0,), (None,), (0.0,), (0.0,), (0.0,), (0.07,), (0.0,), (0.0,), (0.15,), (0.0,), (0.1,), (0.0,), (0.34,), (0.0,), (0.0,), (0.0,), (0.05,), (0.0,), (0.0,), (0.0,), (0.0,), (None,), (0.0,), (0.06,), (None,), (0.02,), (0.04,), (0.0,), (0.0,), (0.0,), (0.01,), (0.0,), (0.06,), (0.0,), (0.05,), (0.0,), (0.25,), (0.02,), (0.12,), (0.0,), (None,), (0.0,), (0.0,), (None,), (None,), (0.0,), (0.0,), (0.0,), (0.0,), (0.0,), (0.0,), (0.0,), (0.3,), (0.0,), (0.06,), (0.02,), (0.0,), (0.23,), (0.3,), (0.0,), (0.13,), (0.14,), (0.01,), (0.0,), (0.09,), (0.4,), (0.0,), (0.0,), (0.0,), (None,), (0.0,), (0.01,), (0.0,), (0.0,), (0.06,), (0.02,), (None,), (0.0,), (0.12,), (0.3,), (0.0,), (0.03,), (0.12,), (0.0,), (0.05,), (0.11,), (0.3,), (0.05,), (0.58,), (1.19,), (None,), (0.61,), (0.84,), (0.0,), (0.06,), (0.07,), (0.2,), (0.8,), (0.03,), (0.07,), (0.12,), (0.0,), (0.2,), (4.0,), (0.0,), (0.0,), (0.0,), (0.0,), (0.0,), (0.03,), (0.1,), (0.03,), (0.12,), (0.0,), (0.0,), (0.33,), (0.06,), (0.7,), (0.0,), (0.09,), (0.0,), (0.0,), (0.05,), (0.27,), (0.05,), (0.03,), (0.0,), (0.0,), (0.0,), (0.05,), (2.4,), (0.03,), (0.12,), (0.16,), (0.0,), (0.21,), (0.39,), (0.02,), (0.07,), (0.12,), (0.0,), (0.1,), (0.5,), (0.0,), (0.03,), (0.01,), (0.0,), (0.05,), (0.1,), (0.02,), (0.05,), (0.0,), (0.0,), (0.2,), (0.68,), (0.07,), (0.33,), (0.3,), (None,), (0.11,), (0.32,), (0.68,), (0.0,), (0.01,), (0.02,), (None,), (0.0,), (0.28,), (0.05,), (0.0,), (0.01,), (0.0,), (None,), (0.0,), (0.02,), (0.0,), (0.0,), (0.0,), (0.0,), (None,), (0.0,), (0.02,), (0.02,), (0.0,), (0.09,), (0.0,), (0.0,), (0.11,), (0.0,), (0.0,), (0.02,), (0.06,), (0.0,), (0.0,), (0.02,), (0.0,), (0.02,), (None,), (None,), (0.0,), (0.18,), (0.3,), (0.0,), (0.0,), (None,), (0.0,), (0.0,), (0.02,), (0.0,), (0.0,), (None,), (None,), (None,), (0.0,), (0.0,), (0.04,), (0.03,), (0.08,), (0.0,), (0.04,), (0.13,), (None,), (None,), (0.02,), (0.15,), (0.4,), (0.02,), (0.05,), (None,), (0.15,), (0.5,), (0.02,), (0.06,), (0.08,), (0.1,), (0.08,), (0.04,), (0.0,), (0.12,), (0.07,), (0.01,), (0.2,), (0.0,), (0.03,), (None,), (0.0,), (0.0,), (0.0,), (0.04,), (0.0,), (0.01,), (0.0,), (0.0,), (0.0,), (0.02,), (0.0,), (0.0,), (0.0,), (0.0,), (0.01,), (0.1,), (0.0,), (0.02,), (None,), (None,), (0.0,), (0.06,), (0.02,), (0.0,), (0.08,), (0.0,), (0.02,), (0.5,), (0.06,), (0.0,), (0.0,), (0.36,), (0.22,), (0.0,), (0.0,), (None,), (0.0,), (0.05,), (0.12,), (0.5,), (0.0,), (0.1,), (0.0,), (0.0,), (0.06,), (0.28,), (0.0,), (0.02,), (None,), (None,), (0.19,), (0.3,), (0.02,), (0.05,), (0.17,), (None,), (0.0,), (0.31,), (0.0,), (0.05,), (0.19,), (None,), (0.01,), (0.08,), (0.4,), (0.05,), (0.25,), (0.18,), (0.0,), (0.24,), (0.7,), (0.0,), (0.35,), (0.02,), (0.0,), (0.07,), (0.1,), (0.0,), (0.02,), (0.02,), (None,), (0.0,), (0.06,), (0.1,), (0.0,), (0.17,), (0.3,), (None,), (0.0,), (0.55,), (1.69,), (0.0,), (0.27,), (0.21,), (None,), (0.06,), (0.22,), (0.81,), (0.0,), (0.36,), (0.1,), (None,), (0.03,), (0.24,), (0.65,), (0.02,), (0.19,), (0.35,), (0.14,), (0.24,), (0.81,), (0.08,), (0.24,), (0.14,), (0.25,), (0.74,), (0.7,), (0.04,), (0.21,), (0.53,), (0.13,), (0.62,), (None,), (0.0,), (0.02,), (0.0,), (None,), (0.0,), (0.02,), (0.0,), (0.02,), (0.01,), (None,), (0.0,), (0.0,), (0.0,), (0.0,), (0.0,), (0.0,), (None,), (0.0,), (0.0,), (0.01,), (0.0,), (0.0,), (0.0,), (None,), (0.0,), (0.0,), (0.0,), (0.0,), (0.0,), (0.02,), (None,), (0.0,), (0.05,), (0.01,), (0.0,), (0.15,), (0.05,), (0.0,), (0.13,), (0.82,), (0.02,), (0.2,), (0.16,), (0.15,), (0.08,), (None,), (0.0,), (0.1,), (0.15,), (None,), (0.0,), (0.09,), (0.0,), (0.03,), (0.0,), (0.0,), (0.0,), (0.01,), (0.02,), (0.1,), (0.0,), (0.0,), (0.25,), (0.26,), (0.2,), (0.04,), (0.11,), (1.12,), (None,), (0.0,), (0.02,), (0.0,), (0.0,), (0.4,), (0.02,), (0.29,), (0.02,), (0.0,), (0.08,), (0.0,), (0.01,), (0.0,), (0.0,), (0.0,), (0.0,), (0.5,), (0.02,), (0.0,), (0.0,), (0.0,), (0.0,), (0.15,), (0.37,), (0.07,), (0.55,), (0.2,), (0.88,), (0.13,), (0.58,), (0.1,), (0.61,), (0.3,), (2.17,), (0.08,), (0.02,), (0.11,), (0.0,), (0.06,), (0.44,), (0.0,), (0.0,), (None,), (0.0,), (0.06,), (0.3,), (0.0,), (0.0,), (0.0,), (0.01,), (0.0,), (0.0,), (0.0,), (0.01,), (None,), (0.02,), (None,), (0.0,), (0.02,), (0.01,), (0.01,), (0.01,), (0.09,), (0.16,), (0.46,), (0.13,), (0.0,), (0.0,), (0.02,), (0.0,), (0.0,), (0.07,), (0.06,), (0.01,), (0.03,), (0.05,), (0.0,), (0.03,), (0.3,), (0.05,), (0.08,), (None,), (0.06,), (0.09,), (0.6,), (0.0,), (0.05,), (0.0,), (0.17,), (1.0,), (0.0,), (0.02,), (0.0,), (0.12,), (0.1,), (0.0,), (0.04,), (None,), (0.0,), (0.02,), (0.1,), (0.01,), (0.03,), (0.0,), (0.12,), (0.44,), (0.0,), (0.05,), (0.0,), (0.06,), (0.2,), (0.55,), (1.62,), (0.52,), (0.68,), (1.58,), (0.23,), (0.0,), (0.22,), (0.95,), (0.0,), (0.73,), (1.11,), (0.0,), (0.07,), (0.0,), (0.02,), (0.03,), (0.0,), (0.0,), (0.06,), (0.0,), (0.0,), (0.0,), (0.0,), (0.0,), (0.28,), (0.0,), (0.0,), (0.1,), (0.0,), (0.0,), (0.08,), (0.0,), (0.0,), (None,), (0.0,), (0.01,), (0.01,), (0.0,), (0.01,), (0.0,), (0.03,), (0.01,), (0.0,), (0.01,), (0.0,), (0.26,), (0.07,), (0.03,), (0.07,), (0.13,), (0.25,), (0.89,), (1.21,), (1.17,), (1.31,), (1.04,), (0.8,), (0.12,), (0.35,), (0.95,), (6.25,), (0.37,), (0.0,), (0.0,), (2.6,), (0.09,), (None,), (0.0,), (0.76,), (0.79,), (0.0,), (0.1,), (0.02,), (None,), (0.0,), (0.19,), (0.11,), (0.0,), (0.0,), (0.14,), (0.01,), (0.02,), (0.22,), (0.0,), (0.0,), (0.0,), (None,), (0.0,), (0.0,), (0.0,), (0.0,), (0.0,), (None,), (None,), (None,), (0.01,), (0.05,), (0.03,), (0.02,), (0.06,), (0.35,), (0.32,), (1.01,), (0.7,), (1.58,), (1.35,), (0.23,), (1.16,), (1.05,), (None,), (2.36,), (1.74,), (1.84,), (0.05,), (0.33,), (0.0,), (None,), (0.35,), (0.05,), (0.0,), (0.02,), (0.02,), (0.0,), (None,), (0.0,), (0.02,), (0.14,), (0.0,), (0.08,), (0.12,), (0.0,), (0.15,), (2.03,), (0.98,), (0.02,), (0.41,), (None,), (None,), (0.3,), (1.04,), (1.3,), (0.0,), (0.49,), (0.0,), (0.47,), (0.11,), (0.01,), (0.45,), (0.0,), (0.38,), (0.9,), (0.26,), (0.69,), (0.29,), (0.36,), (2.3,), (2.82,), (0.0,), (0.27,), (0.0,), (None,), (0.0,), (0.59,), (0.23,), (0.0,), (0.03,), (0.29,), (None,), (0.0,), (0.11,), (0.65,), (0.0,), (0.03,), (0.16,), (None,), (0.0,), (0.03,), (0.25,), (0.0,), (0.01,), (0.0,), (None,), (0.0,), (0.01,), (0.0,), (0.0,), (0.0,), (None,), (None,), (0.0,), (0.0,), (0.0,), (0.0,), (0.0,), (None,), (0.0,), (0.0,), (0.0,), (0.0,), (0.0,), (0.0,), (0.0,), (0.0,), (0.0,), (0.0,), (0.0,), (0.06,), (0.0,), (0.0,), (0.04,), (0.07,), (0.0,), (0.0,), (0.1,), (0.45,), (0.0,), (0.04,), (0.0,), (0.0,), (0.0,), (0.09,), (0.02,), (0.0,), (0.08,), (0.09,), (None,), (0.0,), (0.26,), (0.23,), (0.0,), (0.0,), (0.0,), (0.0,), (0.0,), (0.0,), (0.0,), (0.0,), (0.0,), (0.0,), (0.21,), (0.2,), (0.0,), (0.0,), (0.0,), (0.0,), (0.0,), (0.01,), (None,), (0.0,), (0.08,), (0.03,), (None,), (0.0,), (0.04,), (0.0,), (0.0,), (0.03,), (None,), (0.08,), (0.01,), (0.07,), (0.0,), (0.03,), (0.0,), (None,), (0.0,), (0.0,), (0.68,), (0.0,), (0.0,), (None,), (0.0,), (0.01,), (0.0,), (0.0,), (0.0,), (0.0,), (0.0,), (0.0,), (0.0,), (0.13,), (0.43,), (0.93,), (0.48,), (0.02,), (0.6,), (0.15,), (0.07,), (0.12,), (0.17,), (0.0,), (0.0,), (0.0,), (0.02,), (0.0,), (0.03,), (0.0,), (0.0,), (0.0,), (0.0,), (0.0,), (0.0,), (0.0,), (0.0,), (0.0,), (0.0,), (0.09,), (0.0,), (0.0,), (0.0,), (None,), (0.0,), (0.02,), (0.0,), (0.0,), (0.0,), (0.0,), (0.0,), (0.0,), (0.0,), (0.0,), (0.0,), (0.0,), (0.0,), (None,), (0.0,), (0.19,), (0.06,), (None,), (0.35,), (0.12,), (0.0,), (0.0,), (None,), (None,), (0.0,), (0.0,), (0.0,), (0.0,), (0.0,), (0.0,), (0.0,), (0.06,), (0.0,), (0.0,), (0.0,), (0.0,), (0.06,), (0.0,), (0.0,), (0.0,), (0.0,), (0.0,), (0.0,), (None,), (0.0,), (0.0,), (None,), (0.0,), (0.0,), (None,), (0.0,), (0.0,), (0.0,), (0.03,), (0.0,), (0.01,), (0.0,), (0.0,), (0.13,), (0.13,), (0.0,), (0.0,), (0.03,), (0.0,), (0.0,), (0.8,), (0.5,), (0.0,), (None,), (0.65,), (0.01,), (0.0,), (0.0,), (0.0,), (None,), (0.0,), (0.0,), (0.0,), (0.0,), (0.0,), (None,), (0.0,), (0.0,), (0.0,), (0.51,), (None,), (None,), (None,), (0.03,), (0.0,), (0.35,), (0.1,), (0.41,), (0.35,), (0.0,), (0.0,), (0.0,), (0.0,), (0.0,), (0.47,), (0.54,), (None,), (0.14,), (0.25,), (0.27,), (0.56,), (0.73,), (1.45,), (0.44,), (1.48,), (1.88,), (0.58,), (1.19,), (2.2,), (1.12,), (2.4,), (0.59,), (2.12,), (2.0,), (0.0,), (0.16,), (0.04,), (None,), (0.0,), (0.04,), (0.58,), (0.0,), (0.0,), (0.0,), (None,), (0.0,), (0.0,), (0.0,), (0.0,), (0.0,), (None,), (None,), (0.0,), (0.0,), (0.03,), (0.0,), (0.0,), (0.12,), (0.0,), (0.0,), (0.0,), (0.0,), (0.0,), (0.0,), (0.0,), (0.01,), (0.0,), (0.0,), (0.0,), (0.0,), (0.0,), (0.0,), (0.06,), (0.06,), (0.11,), (0.17,), (0.13,), (0.06,), (0.32,), (0.06,), (0.0,), (0.0,), (None,), (0.0,), (0.07,), (0.0,), (0.0,), (None,), (None,), (0.0,), (0.0,), (0.0,), (0.0,), (0.09,), (0.1,), (0.0,), (0.0,), (0.01,), (0.0,), (None,), (0.0,), (0.8,), (0.06,), (0.0,), (0.06,), (0.13,), (0.07,), (0.0,), (0.62,), (None,), (0.67,), (0.73,), (0.13,), (0.0,), (0.0,), (0.0,), (None,), (None,), (0.01,), (0.07,), (0.0,), (0.0,), (0.0,), (0.0,), (0.0,), (0.01,), (0.01,), (2.9,), (0.0,), (None,), (0.0,), (0.01,), (0.0,), (2.62,), (1.07,), (1.91,), (0.07,), (2.98,), (1.83,), (0.31,), (1.0,), (2.39,), (5.04,), (1.73,), (0.73,), (0.0,), (0.0,), (0.0,), (0.0,), (0.0,), (0.0,), (0.0,), (0.0,), (0.02,), (0.0,), (0.0,), (0.0,), (0.0,), (0.0,), (0.0,), (1.08,), (0.0,), (0.0,), (0.0,), (0.0,), (0.0,), (0.51,), (1.08,), (0.9,), (0.0,), (1.8,), (1.32,), (1.79,), (0.0,), (0.16,), (0.04,), (None,), (0.0,), (0.18,), (0.0,), (0.0,), (0.0,), (None,), (0.0,), (0.0,), (0.0,), (0.0,), (0.0,), (0.0,), (0.0,), (None,), (0.0,), (0.0,), (0.0,), (0.0,), (0.0,), (0.0,), (0.0,), (0.0,), (0.0,), (0.0,), (0.0,), (0.0,), (0.0,), (0.0,), (0.0,), (0.0,), (0.0,), (0.0,), (0.0,), (0.0,), (0.0,), (0.0,), (0.0,), (0.0,), (0.0,), (0.0,), (0.0,), (0.0,), (0.0,), (None,), (0.05,), (0.0,), (0.0,), (0.0,), (0.18,), (0.0,), (None,), (0.26,), (0.55,), (0.0,), (0.14,), (0.0,), (0.0,), (0.0,), (0.0,), (0.0,), (0.0,), (0.0,), (0.0,), (0.03,), (0.03,), (0.0,), (0.0,), (0.01,), (0.0,), (0.0,), (0.0,), (0.1,), (0.03,), (0.12,), (None,), (None,), (0.0,), (0.79,), (2.64,), (0.04,), (0.15,), (None,), (0.08,), (0.13,), (1.85,), (0.0,), (0.08,), (None,), (None,), (0.0,), (0.01,), (0.85,), (0.16,), (0.01,), (0.04,), (0.09,), (0.72,), (0.0,), (0.04,), (0.02,), (0.11,), (0.03,), (0.08,), (0.0,), (0.0,), (0.0,), (None,), (0.0,), (0.0,), (0.0,), (0.0,), (0.0,), (0.0,), (None,), (0.0,), (0.02,), (0.0,), (0.0,), (0.0,), (0.0,), (0.0,), (None,), (0.0,), (0.07,), (0.0,), (0.0,), (0.0,), (0.0,), (0.0,), (0.0,), (0.0,), (0.0,), (None,), (0.0,), (0.0,), (0.0,), (0.0,), (0.0,), (None,), (0.0,), (0.01,), (0.0,), (0.0,), (0.0,), (0.01,), (0.0,), (0.0,), (0.0,), (None,), (None,), (0.0,), (0.0,), (0.0,), (0.0,), (None,), (None,), (0.0,), (0.0,), (0.0,), (0.0,), (0.0,), (None,), (0.0,), (0.0,), (0.0,), (0.0,), (0.0,), (None,), (0.0,), (0.0,), (0.0,), (0.0,), (0.0,), (0.0,), (None,), (0.0,), (0.0,), (0.0,), (0.0,), (0.0,), (0.03,), (0.0,), (0.0,), (0.03,), (0.0,), (0.06,), (0.0,), (0.0,), (0.0,), (0.0,), (0.0,), (0.0,), (0.59,), (0.01,), (0.1,), (0.1,), (0.0,), (0.0,), (0.0,), (0.42,), (0.06,), (0.47,), (0.0,), (0.0,), (0.0,), (0.18,), (0.0,), (0.0,), (0.0,), (0.0,), (0.0,), (None,), (0.0,), (0.0,), (0.0,), (0.0,), (0.01,), (0.01,), (0.0,), (0.0,), (0.29,), (0.0,), (None,), (0.03,), (0.03,), (0.01,), (0.62,), (0.36,), (0.25,), (0.9,), (0.12,), (0.21,), (0.29,), (None,), (0.07,), (0.29,), (2.37,), (0.04,), (0.18,), (0.56,), (None,), (0.05,), (0.52,), (1.03,), (0.02,), (0.09,), (0.01,), (None,), (0.06,), (0.09,), (0.14,), (0.0,), (0.03,), (0.02,), (0.0,), (0.05,), (0.14,), (0.02,), (0.26,), (None,), (0.06,), (0.22,), (1.48,), (0.0,), (0.03,), (0.0,), (0.02,), (0.38,), (0.01,), (0.14,), (0.13,), (0.06,), (0.2,), (1.08,), (0.01,), (0.1,), (0.03,), (None,), (0.02,), (0.24,), (0.83,), (0.01,), (0.17,), (0.05,), (None,), (0.14,), (0.86,), (1.24,), (0.0,), (0.03,), (0.09,), (0.06,), (0.06,), (0.11,), (0.55,), (0.0,), (0.02,), (0.0,), (None,), (0.01,), (0.0,), (0.0,), (0.01,), (0.21,), (0.0,), (None,), (0.02,), (0.03,), (0.15,), (0.13,), (0.29,), (0.04,), (0.27,), (0.16,), (None,), (0.01,), (0.11,), (0.0,), (0.16,), (0.07,), (0.0,), (0.01,), (0.0,), (None,), (0.0,), (0.03,), (0.0,), (0.0,), (0.02,), (0.07,), (None,), (0.0,), (0.14,), (0.03,), (0.03,), (0.05,), (0.12,), (None,), (0.05,), (0.92,), (0.33,), (0.05,), (0.1,), (0.34,), (None,), (0.15,), (0.04,), (0.09,), (0.01,), (0.01,), (None,), (0.02,), (0.0,), (0.0,), (0.01,), (0.04,), (0.02,), (0.06,), (0.0,), (0.13,), (0.05,), (0.02,), (0.0,), (None,), (0.02,), (0.04,), (0.52,), (0.34,), (0.26,), (None,), (0.31,), (0.42,), (0.03,), (0.03,), (0.02,), (0.27,), (0.01,), (0.07,), (0.03,), (0.0,), (0.17,), (None,), (None,), (0.07,), (0.12,), (0.02,), (0.02,), (0.02,), (None,), (0.0,), (0.0,), (0.0,), (0.43,), (0.34,), (0.2,), (None,), (0.45,), (0.22,), (1.6,), (0.03,), (0.1,), (0.0,), (0.32,), (0.04,), (0.31,), (0.0,), (0.04,), (0.26,), (0.02,), (0.77,), (1.62,), (0.03,), (0.3,), (0.4,), (None,), (0.01,), (0.35,), (1.27,), (0.12,), (0.33,), (0.07,), (None,), (0.16,), (0.37,), (0.72,), (0.14,), (0.05,), (0.03,), (None,), (0.0,), (0.05,), (0.79,), (0.0,), (0.04,), (0.04,), (None,), (0.06,), (0.09,), (0.2,), (0.01,), (0.02,), (0.0,), (None,), (0.0,), (0.0,), (0.69,), (0.0,), (0.06,), (0.03,), (0.0,), (0.17,), (0.29,), (0.05,), (0.05,), (0.02,), (0.03,), (0.06,), (0.3,), (0.05,), (0.05,), (None,), (0.11,), (0.08,), (1.03,), (0.05,), (0.2,), (0.21,), (0.3,), (0.72,), (0.14,), (0.03,), (None,), (0.03,), (0.25,), (0.22,), (0.13,), (0.41,), (None,), (None,), (0.31,), (2.05,), (2.11,), (0.01,), (0.02,), (None,), (0.07,), (0.11,), (2.87,), (0.05,), (0.11,), (0.4,), (0.39,), (None,), (0.03,), (0.11,), (0.13,), (0.11,), (0.0,), (0.01,), (None,), (0.02,), (0.0,), (0.0,), (0.03,), (0.0,), (None,), (0.0,), (0.01,), (0.02,), (0.0,), (0.14,), (0.18,), (None,), (0.07,), (0.24,), (0.91,), (0.0,), (0.0,), (0.0,), (None,), (0.0,), (0.0,), (0.05,), (0.0,), (0.06,), (0.05,), (0.02,), (0.0,), (0.0,), (0.02,), (0.0,), (0.0,), (0.0,), (0.0,), (0.0,), (0.0,), (0.0,), (0.0,), (0.0,), (0.0,), (0.0,), (0.0,), (0.0,), (0.0,), (0.0,), (0.0,), (0.0,), (0.0,), (0.0,), (0.0,), (0.0,), (0.0,), (0.0,), (0.01,), (0.0,), (0.08,), (0.17,), (0.0,), (0.0,), (0.11,), (0.04,), (0.07,), (0.14,), (0.02,), (0.15,), (0.21,), (0.53,), (0.0,), (0.0,), (0.13,), (None,), (0.0,), (0.0,), (0.05,), (0.0,), (0.02,), (0.0,), (0.0,), (0.01,), (0.05,), (0.0,), (0.02,), (0.0,), (0.02,), (0.03,), (0.38,), (0.0,), (0.0,), (0.0,), (None,), (0.0,), (0.0,), (0.06,), (0.0,), (0.0,), (0.0,), (0.0,), (0.0,), (0.02,), (0.0,), (0.0,), (0.0,), (0.0,), (0.0,), (0.04,), (0.0,), (0.01,), (0.0,), (0.01,), (0.1,), (0.09,), (0.03,), (0.03,), (0.0,), (None,), (0.13,), (0.07,), (1.35,), (0.24,), (0.1,), (0.14,), (0.0,), (0.16,), (0.95,), (0.0,), (0.02,), (0.26,), (0.01,), (0.1,), (0.25,), (0.0,), (0.02,), (0.07,), (None,), (0.06,), (0.05,), (0.37,), (0.0,), (0.11,), (0.2,), (None,), (0.08,), (0.22,), (1.25,), (0.0,), (0.06,), (0.2,), (0.02,), (0.01,), (0.0,), (0.03,), (0.04,), (0.0,), (0.4,), (0.12,), (0.11,), (0.4,), (0.0,), (0.0,), (0.01,), (None,), (0.0,), (0.08,), (0.7,), (0.01,), (0.01,), (None,), (0.0,), (0.02,), (0.24,), (0.15,), (0.1,), (0.0,), (0.15,), (1.37,), (0.05,), (0.15,), (0.03,), (None,), (None,), (0.0,), (0.09,), (0.0,), (0.0,), (0.01,), (None,), (0.0,), (1.0,), (0.0,), (0.06,), (0.0,), (None,), (0.0,), (0.11,), (0.0,), (0.0,), (0.05,), (0.03,), (None,), (0.02,), (0.02,), (0.48,), (0.01,), (0.03,), (None,), (None,), (0.12,), (0.01,), (0.38,), (0.0,), (0.0,), (0.0,), (0.0,), (0.0,), (0.0,), (0.0,), (0.02,), (0.0,), (0.04,), (0.33,), (0.0,), (0.0,), (0.0,), (0.0,), (0.0,), (0.0,), (0.0,), (0.0,), (0.02,), (None,), (0.0,), (0.0,), (0.06,), (0.0,), (0.03,), (0.0,), (0.0,), (0.03,), (0.02,), (0.0,), (0.02,), (0.04,), (None,), (0.0,), (0.28,), (0.35,), (0.0,), (0.0,), (None,), (0.0,), (0.0,), (0.0,), (0.0,), (0.0,), (0.0,), (0.0,), (0.0,), (0.0,), (0.0,), (0.0,), (0.0,), (0.04,), (0.0,), (0.0,), (0.0,), (None,), (0.0,), (0.0,), (0.01,), (0.0,), (0.05,), (0.0,), (0.07,), (0.0,), (0.0,), (0.04,), (0.0,), (0.0,), (0.0,), (None,), (0.0,), (0.01,), (0.81,), (0.0,), (0.0,), (0.0,), (None,), (0.0,), (0.03,), (3.46,), (0.0,), (0.04,), (0.03,), (None,), (0.0,), (0.16,), (0.46,), (0.0,), (0.02,), (0.03,), (0.0,), (0.06,), (0.61,), (0.0,), (0.14,), (0.08,), (0.07,), (0.14,), (1.02,), (0.0,), (0.31,), (0.06,), (None,), (0.15,), (0.25,), (0.38,), (0.0,), (0.49,), (0.2,), (0.04,), (0.18,), (0.59,), (1.49,), (0.0,), (0.08,), (0.0,), (0.0,), (0.0,), (0.0,), (0.05,), (0.02,), (0.12,), (0.0,), (0.05,), (0.17,), (1.0,), (0.06,), (0.06,), (0.02,), (None,), (0.34,), (0.17,), (1.02,), (0.0,), (0.02,), (0.0,), (0.0,), (0.03,), (0.04,), (0.0,), (0.0,), (0.0,), (0.0,), (0.01,), (0.27,), (0.0,), (0.15,), (0.15,), (0.0,), (0.0,), (0.94,), (0.33,), (0.02,), (0.09,), (0.17,), (0.06,), (0.01,), (0.34,), (0.75,), (0.0,), (0.06,), (0.02,), (0.0,), (0.07,), (1.02,), (0.0,), (0.09,), (0.25,), (0.0,), (0.04,), (0.22,), (0.43,), (0.0,), (0.01,), (None,), (None,), (0.05,), (0.01,), (0.25,), (0.0,), (0.0,), (0.04,), (0.07,), (0.42,), (0.05,), (0.04,), (0.0,), (0.36,), (0.23,), (0.06,), (0.01,), (0.07,), (0.0,), (0.01,), (0.06,), (0.61,), (0.42,), (0.12,), (0.07,), (None,), (0.17,), (0.83,), (3.35,), (1.32,), (0.9,), (1.84,), (None,), (1.19,), (2.33,), (6.7,), (0.02,), (0.37,), (0.32,), (None,), (0.46,), (0.34,), (1.2,), (0.0,), (0.04,), (None,), (None,), (0.15,), (0.31,), (1.04,), (0.05,), (0.18,), (0.12,), (0.3,), (0.6,), (0.0,), (0.01,), (0.14,), (0.09,), (1.16,), (0.03,), (0.01,), (0.29,), (None,), (0.23,), (0.16,), (0.35,), (0.0,), (0.22,), (0.01,), (None,), (0.01,), (0.07,), (0.15,), (0.05,), (0.1,), (0.23,), (0.11,), (0.16,), (1.35,), (None,), (0.05,), (0.04,), (0.03,), (0.11,), (1.0,), (None,), (0.11,), (None,), (0.02,), (0.03,), (0.18,), (0.03,), (0.03,), (0.74,), (0.14,), (0.44,), (0.0,), (0.07,), (0.08,), (0.12,), (1.0,), (0.0,), (0.02,), (0.19,), (None,), (None,), (0.01,), (0.03,), (0.0,), (0.0,), (0.0,), (None,), (0.02,), (0.01,), (0.13,), (0.1,), (None,), (None,), (0.25,), (0.24,), (2.46,), (0.0,), (0.0,), (0.02,), (0.0,), (0.0,), (0.05,), (0.0,), (0.17,), (0.04,), (None,), (0.0,), (0.35,), (0.9,), (0.01,), (0.14,), (0.14,), (0.14,), (0.6,), (2.07,), (0.0,), (0.18,), (0.02,), (0.0,), (0.12,), (None,), (0.0,), (0.03,), (0.02,), (0.04,), (0.0,), (0.01,), (0.08,), (0.08,), (0.0,), (0.0,), (0.21,), (0.06,), (0.11,), (0.08,), (2.15,), (2.28,), (None,), (1.22,), (2.15,), (1.45,)]\n",
      "The date one year from the last date in dataset is 2011-01-01 00:00:00\n"
     ]
    },
    {
     "data": {
      "image/png": "[encoded data removed]",
      "text/plain": [
       "<Figure size 864x576 with 1 Axes>"
      ]
     },
     "metadata": {},
     "output_type": "display_data"
    }
   ],
   "source": [
    "# Design a query to retrieve the last 12 months of precipitation data and plot the results. \n",
    "# Starting from the most recent data point in the database.\n",
    "\n",
    "last_date_12 = dt.datetime.strptime(recent_date, '%Y-%m-%d') - dt.timedelta(days=365)\n",
    "\n",
    "twelve_months = session.query(Measurement.prcp).\\\n",
    "    order_by(Measurement.date.desc()).filter(Measurement.date > last_date_12).all()\n",
    "\n",
    "print(twelve_months)\n",
    "\n",
    "# Calculate the date one year from the last date in data set.\n",
    "\n",
    "last_date = session.query(Measurement.date).order_by(Measurement.date.asc()).first().date\n",
    "one_yr_from_last = dt.datetime.strptime(last_date, '%Y-%m-%d') + dt.timedelta(days=365)\n",
    "print(f'The date one year from the last date in dataset is {one_yr_from_last}')\n",
    "\n",
    "\n",
    "# Perform a query to retrieve the data and precipitation scores\n",
    "\n",
    "results = session.query(Measurement.date,Measurement.prcp).\\\n",
    "    order_by(Measurement.date.asc()).filter(Measurement.date > new_recent_date).all()\n",
    "\n",
    "\n",
    "# Save the query results as a Pandas DataFrame and set the index to the date column\n",
    "df = pd.DataFrame(results)\n",
    "df.dropna(inplace=True)\n",
    "df.set_index('date')\n",
    "df.sort_index()\n",
    "\n",
    "# Use Pandas Plotting with Matplotlib to plot the data\n",
    "\n",
    "x_axis = df['date']\n",
    "y_axis = df['prcp']\n",
    "fig, ax = plt.subplots(figsize=(12, 8))\n",
    "ax.bar(x_axis, y_axis, width=3.0)\n",
    "ax.set_xlabel(\"Date\")\n",
    "ax.set_ylabel(\"Inches\")\n",
    "ax.legend(['precipitation'])\n",
    "ax.set_xticks(x_axis[::202])\n",
    "ax.set_xticklabels(x_axis[::202], rotation=90)\n",
    "plt.savefig(\"Output/Precipitation.png\")\n",
    "plt.show()\n"
   ]
  },
  {
   "cell_type": "code",
   "execution_count": 202,
   "metadata": {},
   "outputs": [
    {
     "data": {
      "text/html": [
       "<div>\n",
       "<style scoped>\n",
       "    .dataframe tbody tr th:only-of-type {\n",
       "        vertical-align: middle;\n",
       "    }\n",
       "\n",
       "    .dataframe tbody tr th {\n",
       "        vertical-align: top;\n",
       "    }\n",
       "\n",
       "    .dataframe thead th {\n",
       "        text-align: right;\n",
       "    }\n",
       "</style>\n",
       "<table border=\"1\" class=\"dataframe\">\n",
       "  <thead>\n",
       "    <tr style=\"text-align: right;\">\n",
       "      <th></th>\n",
       "      <th>prcp</th>\n",
       "    </tr>\n",
       "  </thead>\n",
       "  <tbody>\n",
       "    <tr>\n",
       "      <th>count</th>\n",
       "      <td>2021.000000</td>\n",
       "    </tr>\n",
       "    <tr>\n",
       "      <th>mean</th>\n",
       "      <td>0.177279</td>\n",
       "    </tr>\n",
       "    <tr>\n",
       "      <th>std</th>\n",
       "      <td>0.461190</td>\n",
       "    </tr>\n",
       "    <tr>\n",
       "      <th>min</th>\n",
       "      <td>0.000000</td>\n",
       "    </tr>\n",
       "    <tr>\n",
       "      <th>25%</th>\n",
       "      <td>0.000000</td>\n",
       "    </tr>\n",
       "    <tr>\n",
       "      <th>50%</th>\n",
       "      <td>0.020000</td>\n",
       "    </tr>\n",
       "    <tr>\n",
       "      <th>75%</th>\n",
       "      <td>0.130000</td>\n",
       "    </tr>\n",
       "    <tr>\n",
       "      <th>max</th>\n",
       "      <td>6.700000</td>\n",
       "    </tr>\n",
       "  </tbody>\n",
       "</table>\n",
       "</div>"
      ],
      "text/plain": [
       "              prcp\n",
       "count  2021.000000\n",
       "mean      0.177279\n",
       "std       0.461190\n",
       "min       0.000000\n",
       "25%       0.000000\n",
       "50%       0.020000\n",
       "75%       0.130000\n",
       "max       6.700000"
      ]
     },
     "execution_count": 202,
     "metadata": {},
     "output_type": "execute_result"
    }
   ],
   "source": [
    "# Use Pandas to calcualte the summary statistics for the precipitation data\n",
    "df.describe()"
   ]
  },
  {
   "cell_type": "markdown",
   "metadata": {},
   "source": [
    "# Exploratory Station Analysis"
   ]
  },
  {
   "cell_type": "code",
   "execution_count": 203,
   "metadata": {},
   "outputs": [
    {
     "name": "stdout",
     "output_type": "stream",
     "text": [
      "The dataset has 9 stations\n"
     ]
    }
   ],
   "source": [
    "# Design a query to calculate the total number stations in the dataset\n",
    "count_stat = session.query(Measurement.station).group_by(Measurement.station).count()\n",
    "print(f'The dataset has {count_stat} stations')"
   ]
  },
  {
   "cell_type": "code",
   "execution_count": 204,
   "metadata": {},
   "outputs": [
    {
     "data": {
      "text/plain": [
       "[('USC00519281', 2772),\n",
       " ('USC00519397', 2724),\n",
       " ('USC00513117', 2709),\n",
       " ('USC00519523', 2669),\n",
       " ('USC00516128', 2612),\n",
       " ('USC00514830', 2202),\n",
       " ('USC00511918', 1979),\n",
       " ('USC00517948', 1372),\n",
       " ('USC00518838', 511)]"
      ]
     },
     "execution_count": 204,
     "metadata": {},
     "output_type": "execute_result"
    }
   ],
   "source": [
    "# Design a query to find the most active stations (i.e. what stations have the most rows?)\n",
    "# List the stations and the counts in descending order.\n",
    "list_station=session.query(Measurement.station, func.count(Measurement.station)).\\\n",
    "            group_by(Measurement.station).\\\n",
    "            order_by(func.count(Measurement.station).desc()).all()\n",
    "\n",
    "list_station\n"
   ]
  },
  {
   "cell_type": "code",
   "execution_count": 205,
   "metadata": {},
   "outputs": [
    {
     "data": {
      "text/plain": [
       "[(54.0, 85.0, 71.66378066378067)]"
      ]
     },
     "execution_count": 205,
     "metadata": {},
     "output_type": "execute_result"
    }
   ],
   "source": [
    "# Using the most active station id from the previous query, calculate the lowest, highest, and average temperature.\n",
    "\n",
    "first_station=list_station[0][0]\n",
    "\n",
    "session.query(func.min(Measurement.tobs), func.max(Measurement.tobs), func.avg(Measurement.tobs)).\\\n",
    "               filter(Measurement.station == first_station).all()\n",
    "    \n"
   ]
  },
  {
   "cell_type": "code",
   "execution_count": 230,
   "metadata": {},
   "outputs": [
    {
     "name": "stdout",
     "output_type": "stream",
     "text": [
      "2017-08-18\n",
      "2016-08-18\n"
     ]
    },
    {
     "data": {
      "text/plain": [
       "<function matplotlib.pyplot.show(*args, **kw)>"
      ]
     },
     "execution_count": 230,
     "metadata": {},
     "output_type": "execute_result"
    },
    {
     "data": {
      "image/png": "[encoded data removed]",
      "text/plain": [
       "<Figure size 864x576 with 1 Axes>"
      ]
     },
     "metadata": {},
     "output_type": "display_data"
    }
   ],
   "source": [
    "# Using the most active station id\n",
    "# Query the last 12 months of temperature observation data for this station and plot the results as a histogram\n",
    "\n",
    "station_begin_date = session.query(Measurement.date).filter(Measurement.station == first_station).\\\n",
    "    order_by(Measurement.date.desc()).first().date\n",
    "\n",
    "last_12_months_station = dt.datetime.strptime(station_begin_date, '%Y-%m-%d') - dt.timedelta(days=365)\n",
    "m = last_12_months_station.strftime(\"%m\")\n",
    "y = last_12_months_station.strftime(\"%Y\")\n",
    "d = last_12_months_station.strftime(\"%d\")\n",
    "last_12_months_station = str(y+'-'+m+'-'+d)\n",
    "print(station_begin_date)\n",
    "print(last_12_months_station)\n",
    "\n",
    "station = session.query(Measurement.date,Measurement.tobs).filter(Measurement.station == first_station).\\\n",
    "    filter(Measurement.date >= last_12_months_station).all()\n",
    "station_df = pd.DataFrame(station)\n",
    "\n",
    "#plot the results as a histogram\n",
    "station_df.plot.hist(by='tobs', bins=12, figsize=(12,8))\n",
    "plt.grid(color='grey', linestyle='-', linewidth=2)\n",
    "plt.xlabel(\"Temperature\", fontsize=14)\n",
    "plt.ylabel(\"Frequency\", fontsize=14)\n",
    "plt.legend(bbox_to_anchor=(1,1), fontsize=16)\n",
    "plt.savefig(\"Output/station_temps.png\")\n",
    "plt.show"
   ]
  },
  {
   "cell_type": "markdown",
   "metadata": {},
   "source": [
    "# Close session"
   ]
  },
  {
   "cell_type": "code",
   "execution_count": 231,
   "metadata": {},
   "outputs": [],
   "source": [
    "# Close Session\n",
    "session.close()"
   ]
  },
  {
   "cell_type": "code",
   "execution_count": null,
   "metadata": {},
   "outputs": [],
   "source": []
  }
 ],
 "metadata": {
  "anaconda-cloud": {},
  "kernel_info": {
   "name": "python3"
  },
  "kernelspec": {
   "display_name": "Python 3",
   "language": "python",
   "name": "python3"
  },
  "language_info": {
   "codemirror_mode": {
    "name": "ipython",
    "version": 3
   },
   "file_extension": ".py",
   "mimetype": "text/x-python",
   "name": "python",
   "nbconvert_exporter": "python",
   "pygments_lexer": "ipython3",
   "version": "3.6.10"
  },
  "nteract": {
   "version": "0.12.3"
  },
  "varInspector": {
   "cols": {
    "lenName": 16,
    "lenType": 16,
    "lenVar": 40
   },
   "kernels_config": {
    "python": {
     "delete_cmd_postfix": "",
     "delete_cmd_prefix": "del ",
     "library": "var_list.py",
     "varRefreshCmd": "print(var_dic_list())"
    },
    "r": {
     "delete_cmd_postfix": ") ",
     "delete_cmd_prefix": "rm(",
     "library": "var_list.r",
     "varRefreshCmd": "cat(var_dic_list()) "
    }
   },
   "types_to_exclude": [
    "module",
    "function",
    "builtin_function_or_method",
    "instance",
    "_Feature"
   ],
   "window_display": false
  }
 },
 "nbformat": 4,
 "nbformat_minor": 2
}
